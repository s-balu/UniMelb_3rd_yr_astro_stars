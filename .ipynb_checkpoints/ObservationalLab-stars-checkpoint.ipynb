{
 "cells": [
  {
   "cell_type": "markdown",
   "metadata": {},
   "source": [
    "### This notebook is supposed to be used as template/check for your work. \n",
    "### Depending on the star cluster you are observing as well as the particulars of your data analysis, there will be changes to the final results. I also do not claim to have done a rigorous job here. \n",
    "### Nevertheless, this should serve as a rough guideline."
   ]
  },
  {
   "cell_type": "markdown",
   "metadata": {
    "tags": []
   },
   "source": [
    "\n",
    "#### First we will load the necessary python modules. Let your demonstrator know if there are any errors here.\n",
    "In case you're doing this on your personal machine, all of these can be installed using conda."
   ]
  },
  {
   "cell_type": "code",
   "execution_count": 1,
   "metadata": {
    "tags": []
   },
   "outputs": [],
   "source": [
    "# Bare minimum nuts-and-bolts of python\n",
    "import numpy as np\n",
    "import pandas as pd\n",
    "import matplotlib.pyplot as plt\n",
    "# %matplotlib "
   ]
  },
  {
   "cell_type": "code",
   "execution_count": 2,
   "metadata": {
    "tags": []
   },
   "outputs": [],
   "source": [
    "#astro-specific packages\n",
    "from astropy.nddata import CCDData\n",
    "from astropy.io import fits\n",
    "from astropy import units as u\n",
    "import ccdproc as ccdp\n",
    "from photutils.aperture import aperture_photometry, CircularAperture, CircularAnnulus"
   ]
  },
  {
   "cell_type": "markdown",
   "metadata": {},
   "source": [
    "Next we will read in the FITS files. In this notebook we are only going to read in the B-band and (later) V-band files"
   ]
  },
  {
   "cell_type": "code",
   "execution_count": 3,
   "metadata": {
    "tags": []
   },
   "outputs": [],
   "source": [
    "dir_name = \"./data/T17/NGC_2520/\""
   ]
  },
  {
   "cell_type": "code",
   "execution_count": 4,
   "metadata": {
    "tags": []
   },
   "outputs": [],
   "source": [
    "# M93_B = CCDData.read(dir_name+\"M93_B.fits\", unit='adu')\n",
    "# M93_B_flat = CCDData.read(dir_name+\"flat_B.fits\", unit='adu')\n",
    "# M93_bias = CCDData.read(dir_name+\"bias.fits\", unit='adu')"
   ]
  },
  {
   "cell_type": "code",
   "execution_count": 5,
   "metadata": {
    "tags": []
   },
   "outputs": [
    {
     "name": "stderr",
     "output_type": "stream",
     "text": [
      "WARNING: FITSFixedWarning: RADECSYS= 'FK5 ' / Equatorial coordinate system \n",
      "the RADECSYS keyword is deprecated, use RADESYSa. [astropy.wcs.wcs]\n",
      "WARNING: FITSFixedWarning: 'datfix' made the change 'Set MJD-OBS to 59964.564045 from DATE-OBS'. [astropy.wcs.wcs]\n"
     ]
    }
   ],
   "source": [
    "NGC_2520_B = CCDData.read(\n",
    "    dir_name+\"calibrated-T17-phy3_s1g4_2021-NGC_2520-20230120-003203-B-BIN1-E-120-001.fit\",\n",
    "    unit=\"adu\")"
   ]
  },
  {
   "cell_type": "markdown",
   "metadata": {},
   "source": [
    "### It is always a good practice to take a look at your data to understand ''how it looks like'' (i.e. metadata, float vs int, etc and also to make sure nothing is broken!)"
   ]
  },
  {
   "cell_type": "code",
   "execution_count": 6,
   "metadata": {},
   "outputs": [
    {
     "ename": "NameError",
     "evalue": "name 'NGC_B_cal' is not defined",
     "output_type": "error",
     "traceback": [
      "\u001b[0;31m---------------------------------------------------------------------------\u001b[0m",
      "\u001b[0;31mNameError\u001b[0m                                 Traceback (most recent call last)",
      "Cell \u001b[0;32mIn[6], line 1\u001b[0m\n\u001b[0;32m----> 1\u001b[0m \u001b[43mNGC_B_cal\u001b[49m\u001b[38;5;241m.\u001b[39mdata \u001b[38;5;66;03m#Check that the data has read in correctly.\u001b[39;00m\n",
      "\u001b[0;31mNameError\u001b[0m: name 'NGC_B_cal' is not defined"
     ]
    }
   ],
   "source": [
    "NGC_2520_B.data #Check that the data has read in correctly."
   ]
  },
  {
   "cell_type": "markdown",
   "metadata": {},
   "source": [
    "Remove the bias frame from the science image:"
   ]
  },
  {
   "cell_type": "raw",
   "metadata": {},
   "source": [
    "biassub = ccdp.subtract_bias(M93_B, M93_bias)\n",
    "#reduced.write(\"M93_B_biassub.fits\")\n",
    "#biassub.data"
   ]
  },
  {
   "cell_type": "markdown",
   "metadata": {},
   "source": [
    "Remove the flat field from the bias-subtracted image:"
   ]
  },
  {
   "cell_type": "raw",
   "metadata": {},
   "source": [
    "reduced = ccdp.flat_correct(biassub, M93_B_flat)\n",
    "reduced.data\n",
    "reduced.write(\"M93_B_reduced.fits\",overwrite=True)"
   ]
  },
  {
   "cell_type": "markdown",
   "metadata": {},
   "source": [
    "----\n",
    "\n",
    "## Next we'll load in the star list made with DS9."
   ]
  },
  {
   "cell_type": "markdown",
   "metadata": {
    "tags": []
   },
   "source": [
    "### When you open your fits file in DS9, it will look something like this:"
   ]
  },
  {
   "cell_type": "markdown",
   "metadata": {
    "tags": []
   },
   "source": [
    "<img src=\"./figs/1.png\">"
   ]
  },
  {
   "cell_type": "markdown",
   "metadata": {},
   "source": [
    "#### After putting regions over the stars, they will roughly look like the following. You then export them to a \".txt\" file which is what we are reading in next."
   ]
  },
  {
   "cell_type": "markdown",
   "metadata": {},
   "source": [
    "<img src=\"./figs/2.png\">"
   ]
  },
  {
   "cell_type": "code",
   "execution_count": null,
   "metadata": {},
   "outputs": [],
   "source": [
    "star_coords = np.loadtxt(fname=dir_name+'../NGC_2520_starlist.txt', delimiter=' ')"
   ]
  },
  {
   "cell_type": "code",
   "execution_count": null,
   "metadata": {
    "tags": []
   },
   "outputs": [],
   "source": [
    "print(star_coords.shape)"
   ]
  },
  {
   "cell_type": "markdown",
   "metadata": {},
   "source": [
    "#### I have therefore saved the locations for 100 stars. The more stars you marks, the better it is."
   ]
  },
  {
   "cell_type": "markdown",
   "metadata": {},
   "source": [
    "## Photometry"
   ]
  },
  {
   "cell_type": "markdown",
   "metadata": {},
   "source": [
    "First, get the counts from each star in each filter:"
   ]
  },
  {
   "cell_type": "code",
   "execution_count": null,
   "metadata": {
    "tags": []
   },
   "outputs": [],
   "source": [
    "apertures = CircularAperture(star_coords, r=4.0)\n",
    "rawphot_B = aperture_photometry(NGC_2520_B, apertures) "
   ]
  },
  {
   "cell_type": "markdown",
   "metadata": {},
   "source": [
    "Subtract background light:"
   ]
  },
  {
   "cell_type": "code",
   "execution_count": null,
   "metadata": {},
   "outputs": [],
   "source": [
    "annuli = CircularAnnulus(star_coords, 6.0, 8.0)\n",
    "sky_B = aperture_photometry(NGC_2520_B, annuli)\n",
    "\n",
    "phot_B = rawphot_B[\"aperture_sum\"] - sky_B[\"aperture_sum\"]\n",
    "\n"
   ]
  },
  {
   "cell_type": "code",
   "execution_count": null,
   "metadata": {
    "tags": []
   },
   "outputs": [],
   "source": [
    "NGC_2520_V = CCDData.read(\n",
    "    dir_name+\"calibrated-T17-phy3_s1g4_2021-NGC_2520-20230120-002944-V-BIN1-E-120-001.fit\",\n",
    "    unit=\"adu\")\n",
    "\n",
    "rawphot_V = aperture_photometry(NGC_2520_V, apertures) \n",
    "\n",
    "sky_V = aperture_photometry(NGC_2520_V, annuli)\n",
    "\n",
    "phot_V = rawphot_V[\"aperture_sum\"] - sky_V[\"aperture_sum\"]"
   ]
  },
  {
   "cell_type": "markdown",
   "metadata": {},
   "source": [
    "Calibrate counts into apparent magnitudes:"
   ]
  },
  {
   "cell_type": "code",
   "execution_count": null,
   "metadata": {},
   "outputs": [],
   "source": [
    "standard_star = {\"count_B\": phot_B[0],\n",
    "            \"mag_B\" : 9.99,\n",
    "             \"count_V\" : phot_V[0],\n",
    "              \"mag_V\" : 9.79,\n",
    "            \"distance\" : 630}"
   ]
  },
  {
   "cell_type": "code",
   "execution_count": null,
   "metadata": {},
   "outputs": [],
   "source": [
    "mags_apparent_B = standard[\"mag\"] + 2.5 * np.log10(phot_B/standard_star[\"count_B\"])\n",
    "mags_absolute_B = mags_apparent_B + 5 - 5*np.log10(standard_star[\"distance\"])"
   ]
  },
  {
   "cell_type": "code",
   "execution_count": null,
   "metadata": {
    "tags": []
   },
   "outputs": [],
   "source": [
    "mags_apparent_V = standard[\"mag\"] + 2.5 * np.log10(phot_V/standard[\"count_V\"])\n",
    "mags_absolute_V = mags_apparent_V + 5 - 5*np.log10(standard[\"distance\"])"
   ]
  },
  {
   "cell_type": "code",
   "execution_count": null,
   "metadata": {
    "tags": []
   },
   "outputs": [],
   "source": [
    "col_BV = mags_absolute_B - mags_absolute_V"
   ]
  },
  {
   "cell_type": "code",
   "execution_count": null,
   "metadata": {
    "tags": []
   },
   "outputs": [],
   "source": [
    "fig, ax = plt.subplots()\n",
    "ax.scatter(col_BV, mags_absolute_V)\n",
    "\n",
    "ax.set_xlabel(\"Colours (B-V)\")\n",
    "ax.set_ylabel(\"M_V\")\n",
    "ax.set_title(\"NGC-2520; HR digram\")\n",
    "plt.savefig(\"figs/NGC_2520_HR.pdf\")"
   ]
  },
  {
   "cell_type": "code",
   "execution_count": null,
   "metadata": {},
   "outputs": [],
   "source": []
  }
 ],
 "metadata": {
  "kernelspec": {
   "display_name": "Python 3 (ipykernel)",
   "language": "python",
   "name": "python3"
  },
  "language_info": {
   "codemirror_mode": {
    "name": "ipython",
    "version": 3
   },
   "file_extension": ".py",
   "mimetype": "text/x-python",
   "name": "python",
   "nbconvert_exporter": "python",
   "pygments_lexer": "ipython3",
   "version": "3.10.9"
  }
 },
 "nbformat": 4,
 "nbformat_minor": 4
}
